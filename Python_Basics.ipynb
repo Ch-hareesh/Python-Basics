{
  "nbformat": 4,
  "nbformat_minor": 0,
  "metadata": {
    "colab": {
      "provenance": [],
      "collapsed_sections": [
        "lPkxB8MfZHhX",
        "oIfWMJLSXXMc",
        "aLp6slstXgls",
        "VNJoVJl4ZPES",
        "gH7pz8EEdezi",
        "OyNirxv9fmGj",
        "DpUUFtJvgboJ",
        "ftY-pddpjcgn",
        "1MBXW1nuoZPh",
        "B2koA-yCqFbr",
        "fyJkPBC-q-2q",
        "CLRs_ZOs0Q0t",
        "rIuR87AU1ub7",
        "JKtPt9Vg0QVk",
        "1ENsuP2M7m4T",
        "pbmtjz3V_MmR",
        "1ZSzTMbI_c86",
        "7NdQXIQy_u9K",
        "h2biuuE8AXC3",
        "CJ5BjiCzAqXs",
        "w-wjNeFQC6Se",
        "NCRRKaSdEzDJ",
        "NRoCvRujD8-H",
        "e6VKo2xyI0en",
        "29E7cswqMPC3",
        "f1e3b3AENgD7",
        "MafnbCXbOp0S",
        "-v78CRuvPJIE",
        "b0MiWJ0qPbLK",
        "yReWPx2SQVMW",
        "vGCyAXSaReCD"
      ]
    },
    "kernelspec": {
      "name": "python3",
      "display_name": "Python 3"
    },
    "language_info": {
      "name": "python"
    }
  },
  "cells": [
    {
      "cell_type": "markdown",
      "source": [
        "## THEORY QUESTIONS"
      ],
      "metadata": {
        "id": "lPkxB8MfZHhX"
      }
    },
    {
      "cell_type": "markdown",
      "source": [
        "#### **1. What is Python, and why is it popular ?**"
      ],
      "metadata": {
        "id": "oIfWMJLSXXMc"
      }
    },
    {
      "cell_type": "markdown",
      "source": [
        "- Python is High level programming language and also an interpreted language developed by Guido Van Rossum\n",
        "- It is popular becuase it is an open source, easy to learn and use, and it has a world wide communinty which helps the users to use the resources build by other users."
      ],
      "metadata": {
        "id": "QfDWV-3eVFw4"
      }
    },
    {
      "cell_type": "markdown",
      "source": [
        "#### **2. What is an interpreter in Python ?**"
      ],
      "metadata": {
        "id": "aLp6slstXgls"
      }
    },
    {
      "cell_type": "markdown",
      "source": [
        "- In python, an interpreter is a program that executes python code directly, without needing to compile it into machine code first. It reads the source code line by line, translates each line into machine readable instructions and then executes them immediately, this allows error detection faster and easier"
      ],
      "metadata": {
        "id": "hBph3IO1X-ZM"
      }
    },
    {
      "cell_type": "markdown",
      "source": [
        "#### **3.  What are pre-defined keywords in Python?**"
      ],
      "metadata": {
        "id": "VNJoVJl4ZPES"
      }
    },
    {
      "cell_type": "markdown",
      "source": [
        "- Pre - defined keywords are the reserved words which have a sepecific functions or special meaning and cannot be used as Identifiers like variables, function names, or class names.\n",
        "- These keywords are fundamental to the syntax and structure of python programming\n",
        "- we can use a function or pre-defined keyword called ```help()``` to know the all pre-defined keywords in python by writing or import the keywords and print them as list"
      ],
      "metadata": {
        "id": "b6yHhkpgZfiF"
      }
    },
    {
      "cell_type": "code",
      "execution_count": null,
      "metadata": {
        "colab": {
          "base_uri": "https://localhost:8080/"
        },
        "id": "gkeOkWJoU9oK",
        "outputId": "3e66a3e5-135b-460a-bc27-6f89c2e1f294"
      },
      "outputs": [
        {
          "output_type": "stream",
          "name": "stdout",
          "text": [
            "\n",
            "Here is a list of the Python keywords.  Enter any keyword to get more help.\n",
            "\n",
            "False               class               from                or\n",
            "None                continue            global              pass\n",
            "True                def                 if                  raise\n",
            "and                 del                 import              return\n",
            "as                  elif                in                  try\n",
            "assert              else                is                  while\n",
            "async               except              lambda              with\n",
            "await               finally             nonlocal            yield\n",
            "break               for                 not                 \n",
            "\n"
          ]
        }
      ],
      "source": [
        "# Method 1\n",
        "help('keywords')"
      ]
    },
    {
      "cell_type": "code",
      "metadata": {
        "colab": {
          "base_uri": "https://localhost:8080/"
        },
        "id": "3e70fecb",
        "outputId": "dd0fd709-2286-40fe-b6ce-11666d79a6e0"
      },
      "source": [
        "# Method 2\n",
        "import keyword\n",
        "print(keyword.kwlist)"
      ],
      "execution_count": null,
      "outputs": [
        {
          "output_type": "stream",
          "name": "stdout",
          "text": [
            "['False', 'None', 'True', 'and', 'as', 'assert', 'async', 'await', 'break', 'class', 'continue', 'def', 'del', 'elif', 'else', 'except', 'finally', 'for', 'from', 'global', 'if', 'import', 'in', 'is', 'lambda', 'nonlocal', 'not', 'or', 'pass', 'raise', 'return', 'try', 'while', 'with', 'yield']\n"
          ]
        }
      ]
    },
    {
      "cell_type": "markdown",
      "source": [
        "- or if we don't want them in list we can use for loop to print them vertically, by using\n",
        "\n",
        "```\n",
        "import keyword\n",
        "for i in keyword.kwlist:\n",
        "  print(i)\n",
        "```\n",
        "\n"
      ],
      "metadata": {
        "id": "VqmBn-BIctf0"
      }
    },
    {
      "cell_type": "markdown",
      "source": [
        "####  **4. Can keywords be used as variable names ?**"
      ],
      "metadata": {
        "id": "gH7pz8EEdezi"
      }
    },
    {
      "cell_type": "markdown",
      "source": [
        "- No, they connot be used as varaible as i mentioned earlier in Q3, keywords cannot be identifiers like variables, fumction names, class names\n",
        "- well i tried to do that with ```print``` function and as soon as i executed that code the interpreter begin to recognize the ```print``` as a variable not as the fucntion to actually the print the content on terminal, I had restart the kernel to fix this.\n",
        "- so , no we cannot use these keywords as variables, and actually it should be forbidden to do like this, i mean interpreter should through an error when user tries to use the pre-defined keywords as variables."
      ],
      "metadata": {
        "id": "PVlGfPshdq-0"
      }
    },
    {
      "cell_type": "markdown",
      "source": [
        "#### **5. What is mutability in Python ?**"
      ],
      "metadata": {
        "id": "OyNirxv9fmGj"
      }
    },
    {
      "cell_type": "markdown",
      "source": [
        "- Mutability in python means changing/altering/manipulating the contents of objects after being created like lists and dictinaries, sets and arrays."
      ],
      "metadata": {
        "id": "5D5S3hhQfzVz"
      }
    },
    {
      "cell_type": "markdown",
      "source": [
        "#### **6.  Why are lists mutable, but tuples are immutable ?**"
      ],
      "metadata": {
        "id": "DpUUFtJvgboJ"
      }
    },
    {
      "cell_type": "markdown",
      "source": [
        "- I think this is becuase the way they were made or design choice for specific purposes.\n",
        "- lists are made keeping in mind that the data stored in container may needs to be change over time. hence, lists were made mutable. Like for example grocery lists, Height and wieght info of students etc\n",
        "- And some data which are intended to keep it safe or unaltered. hence, tuples are made immutable. For example roll no list or ID no list and etc"
      ],
      "metadata": {
        "id": "ocUQjyfchE3l"
      }
    },
    {
      "cell_type": "markdown",
      "source": [
        "#### **7.What is the difference between ```==``` and ```is``` operators in Python ?**"
      ],
      "metadata": {
        "id": "ftY-pddpjcgn"
      }
    },
    {
      "cell_type": "markdown",
      "source": [
        "- first of all ```==``` is a comparision operator and ```is``` is an identity operator\n",
        "- Fucntion of both the operators are same the way of functioning is different\n",
        "- ```==``` compares the values between two variables or values and one varable and one value and etc according to the scenarios and outputs the result in the form of ```True``` or ```False```\n",
        "- ```is``` operator aslo compares the location of the variables not the value, it only compares in between two variables and outputs the result in the form of ```True``` or ```False```"
      ],
      "metadata": {
        "id": "nerY5abyjkmB"
      }
    },
    {
      "cell_type": "code",
      "source": [
        "# Using == operator\n",
        "a = 4\n",
        "b = 6\n",
        "c = 4\n",
        "\n",
        "print(a==b) # comparisio b/w variables\n",
        "print(a==c)\n",
        "print(4==3) # Directly with numbers\n",
        "print(a==5) # comparision b/w variable and numbers\n",
        "print(\"Hello world\" == \"hello world\") # comparision b/w string\n",
        "# above line's ouput will result False becuase python is case sensitive"
      ],
      "metadata": {
        "colab": {
          "base_uri": "https://localhost:8080/"
        },
        "id": "pm09lgJwcUKn",
        "outputId": "315fbb2e-73fd-435b-f9ef-3c4ed7d50880"
      },
      "execution_count": null,
      "outputs": [
        {
          "output_type": "stream",
          "name": "stdout",
          "text": [
            "False\n",
            "True\n",
            "False\n",
            "False\n",
            "False\n"
          ]
        }
      ]
    },
    {
      "cell_type": "code",
      "source": [
        "# Using \"is\" operator\n",
        "\n",
        "print(a is b)\n",
        "print(a is c)\n",
        "\n",
        "# print(a is 5)\n",
        "# above line will cause syntax error\n",
        "# as \"is\" operator can only compare in between locations of data"
      ],
      "metadata": {
        "colab": {
          "base_uri": "https://localhost:8080/"
        },
        "id": "BUp2hJ3Xld59",
        "outputId": "cd5136d8-d6e9-427b-94a3-d9d5aaa0f958"
      },
      "execution_count": null,
      "outputs": [
        {
          "output_type": "stream",
          "name": "stdout",
          "text": [
            "False\n",
            "True\n"
          ]
        }
      ]
    },
    {
      "cell_type": "code",
      "source": [
        "# \"id\" function can be used to know the location of data pointed by variables\n",
        "print(f\"Location of data {a} pointed by variable a : {id(a)}\")\n",
        "print(f\"Location of data {b} pointed by variable b : {id(b)}\")\n",
        "print(f\"Location of data {c} pointed by variable c : {id(c)}\")"
      ],
      "metadata": {
        "colab": {
          "base_uri": "https://localhost:8080/"
        },
        "id": "1sjrkyr5nSdU",
        "outputId": "7fb37404-cf01-45d8-eba6-f9838741678e"
      },
      "execution_count": null,
      "outputs": [
        {
          "output_type": "stream",
          "name": "stdout",
          "text": [
            "Location of data 4 pointed by variable a : 10757832\n",
            "Location of data 6 pointed by variable b : 10757896\n",
            "Location of data 4 pointed by variable c : 10757832\n"
          ]
        }
      ]
    },
    {
      "cell_type": "markdown",
      "source": [
        "#### **8. What are logical operators in Python ?**\n"
      ],
      "metadata": {
        "id": "1MBXW1nuoZPh"
      }
    },
    {
      "cell_type": "markdown",
      "source": [
        "- logical Operators are ```and``` and ```or```\n",
        "- In easy terms ```and``` is like multiplication and ```or``` is like addition\n",
        "- as we know True is 1 and False is 0 , so acc to the truth table of ```and``` and ```or``` , ```True and True``` is ```True``` , ```True and False``` is ```Flase``` and etc.."
      ],
      "metadata": {
        "id": "T11L1qYqo9Xq"
      }
    },
    {
      "cell_type": "code",
      "source": [
        "# using AND operator\n",
        "print(True and True)\n",
        "print(True and False)\n",
        "print(False and True)\n",
        "print(False and False)"
      ],
      "metadata": {
        "colab": {
          "base_uri": "https://localhost:8080/"
        },
        "id": "ZDqX41famebQ",
        "outputId": "e056bfa4-7764-4e7d-93ac-1f2a3e174a12"
      },
      "execution_count": null,
      "outputs": [
        {
          "output_type": "stream",
          "name": "stdout",
          "text": [
            "True\n",
            "False\n",
            "False\n",
            "False\n"
          ]
        }
      ]
    },
    {
      "cell_type": "code",
      "source": [
        "# using OR operator\n",
        "print(True or True)\n",
        "print(True or False)\n",
        "print(False or True)\n",
        "print(False or False)"
      ],
      "metadata": {
        "colab": {
          "base_uri": "https://localhost:8080/"
        },
        "id": "hryyu0ANpcV1",
        "outputId": "c6f5a1f9-57fb-4e68-fcbb-e7de6a8faa97"
      },
      "execution_count": null,
      "outputs": [
        {
          "output_type": "stream",
          "name": "stdout",
          "text": [
            "True\n",
            "True\n",
            "True\n",
            "False\n"
          ]
        }
      ]
    },
    {
      "cell_type": "markdown",
      "source": [
        "#### **9. What is type casting in Python ?**"
      ],
      "metadata": {
        "id": "B2koA-yCqFbr"
      }
    },
    {
      "cell_type": "markdown",
      "source": [
        "- It is process or method of chaning the type of data either by explicitly or implicitly"
      ],
      "metadata": {
        "id": "Y4CDH04DqX38"
      }
    },
    {
      "cell_type": "markdown",
      "source": [
        "#### **10. What is the difference between implicit and explicit type casting**\n"
      ],
      "metadata": {
        "id": "fyJkPBC-q-2q"
      }
    },
    {
      "cell_type": "markdown",
      "source": [
        "**1. Implicit type casting:**\n",
        "- This occurs automatically, python automatically converts one data type to another to smooth the process\n",
        "- like for example : when we perform division operation the python automatically converts the result to float type and when we assign any value it refers as integer and when we assign a value with points it assgins it as float and number ```j``` is being assigned as complex number and when variable is assinged with ```True``` it is boolean and ```None``` as none type.\n",
        "- we can use ```type()``` built-in function to know a type of data\n"
      ],
      "metadata": {
        "id": "EmkhGvO_rH_G"
      }
    },
    {
      "cell_type": "code",
      "source": [
        "number = 2\n",
        "name = \"Pwskills\"\n",
        "Decimal_num = 4/number\n",
        "Complex_num = 4 + 3j\n",
        "boolean_val = True\n",
        "None_type = None\n",
        "\n",
        "print(f\"Type of number {2} is {type(number)}\")\n",
        "print(f\"Type of name {name} is {type(name)}\")\n",
        "print(f\"Type of Decimal_num {Decimal_num} is {type(Decimal_num)}\")\n",
        "print(f\"Type of Complex_num {Complex_num} is {type(Complex_num)}\")\n",
        "print(f\"Type of boolean_val {boolean_val} is {type(boolean_val)}\")\n",
        "print(f\"Type of None_type {None_type} is {type(None_type)}\")"
      ],
      "metadata": {
        "colab": {
          "base_uri": "https://localhost:8080/"
        },
        "id": "CiaqrikqpjzM",
        "outputId": "71621d77-78a7-4351-f023-bff71cbfc979"
      },
      "execution_count": null,
      "outputs": [
        {
          "output_type": "stream",
          "name": "stdout",
          "text": [
            "Type of number 2 is <class 'int'>\n",
            "Type of name Pwskills is <class 'str'>\n",
            "Type of Decimal_num 2.0 is <class 'float'>\n",
            "Type of Complex_num (4+3j) is <class 'complex'>\n",
            "Type of boolean_val True is <class 'bool'>\n",
            "Type of None_type None is <class 'NoneType'>\n"
          ]
        }
      ]
    },
    {
      "cell_type": "markdown",
      "source": [
        "**2. Explicit type casting**\n",
        "- This involves using built-in functions to convert a value to specific data type by the programmer\n",
        "- ```int()``` converts to an integer\n",
        "- ```float()``` converts to a float\n",
        "- ```str()``` converts to a string\n",
        "- ```bool()``` converts to a boolean\n",
        "- ```None()``` converts to a none data type\n",
        "\n"
      ],
      "metadata": {
        "id": "jKC7ru3HvE-w"
      }
    },
    {
      "cell_type": "code",
      "source": [
        "num = 5\n",
        "print(f\"Type of num {num} is : {type(num)}\")\n",
        "\n",
        "# converting integer to float\n",
        "num1 = float(num)\n",
        "print(f\"Type of num {num1} is : {type(num1)}\")\n",
        "\n",
        "# converting integer to string\n",
        "str_num = str(num)\n",
        "print(f\"Type of num {str_num} is : {type(str_num)}\")\n",
        "\n",
        "# converting integer to boolean\n",
        "bool_num = bool(num)\n",
        "print(f\"Type of num {bool_num} is : {type(bool_num)}\")\n",
        "\n",
        "# converting integer to none\n",
        "none_num = None\n",
        "print(f\"Type of num {none_num} is : {type(none_num)}\")"
      ],
      "metadata": {
        "colab": {
          "base_uri": "https://localhost:8080/"
        },
        "id": "1RnE7CsytVLQ",
        "outputId": "b6f63658-b16d-4830-fd21-eefcf8f4f653"
      },
      "execution_count": null,
      "outputs": [
        {
          "output_type": "stream",
          "name": "stdout",
          "text": [
            "Type of num 5 is : <class 'int'>\n",
            "Type of num 5.0 is : <class 'float'>\n",
            "Type of num 5 is : <class 'str'>\n",
            "Type of num True is : <class 'bool'>\n",
            "Type of num None is : <class 'NoneType'>\n"
          ]
        }
      ]
    },
    {
      "cell_type": "markdown",
      "source": [
        "- **NOTE :**\n",
        "  1. string cannot be conveted to integer , unless it is number\n",
        "  2. Anything greater than 0 will be taken as ```True```"
      ],
      "metadata": {
        "id": "MKzerOolzpTL"
      }
    },
    {
      "cell_type": "markdown",
      "source": [
        "#### **11. What is the purpose of conditional statements in Python ?**"
      ],
      "metadata": {
        "id": "CLRs_ZOs0Q0t"
      }
    },
    {
      "cell_type": "markdown",
      "source": [
        "- conditional statements are used to control the flow of program or used to execute specific blocks of code based on whether a given condition is ```True``` or ```False```\n",
        "- They are fundamental for decision-making"
      ],
      "metadata": {
        "id": "Yn7FLagC0dTD"
      }
    },
    {
      "cell_type": "markdown",
      "source": [
        "#### **12.  How does the ```elif``` statement work**"
      ],
      "metadata": {
        "id": "rIuR87AU1ub7"
      }
    },
    {
      "cell_type": "markdown",
      "source": [
        "- It is usually known as ```if-elif-else``` statment\n",
        "- Syntax and example :"
      ],
      "metadata": {
        "id": "I2ihQTTA2AOJ"
      }
    },
    {
      "cell_type": "code",
      "source": [
        "# if-elif-else statement example\n",
        "num = int(input(\"Enter a number : \"))\n",
        "if num > 0 :\n",
        "  print(f\"{num} is a positive number\")\n",
        "elif num < 0 :\n",
        "  print(f\"{num} is a negative number\")\n",
        "else :\n",
        "  print(f\"{num} is zero\")"
      ],
      "metadata": {
        "colab": {
          "base_uri": "https://localhost:8080/"
        },
        "id": "Pvb4LKIAzlwl",
        "outputId": "c4e65d46-56f9-40fe-e0fe-a8af96aafd5c"
      },
      "execution_count": null,
      "outputs": [
        {
          "output_type": "stream",
          "name": "stdout",
          "text": [
            "Enter a number : 3\n",
            "3 is a positive number\n"
          ]
        }
      ]
    },
    {
      "cell_type": "markdown",
      "source": [
        "#### **13.  What is the difference between ```for``` and ```while``` loops ?**"
      ],
      "metadata": {
        "id": "JKtPt9Vg0QVk"
      }
    },
    {
      "cell_type": "markdown",
      "source": [
        "**1. ```for``` loop**\n",
        "- It made for iterating over a sequence like list, tuple, string, range or any other iterable object\n",
        "- The numbers iterations is typically given programmer or depends on code\n",
        "- It handles the loop to automatically move to the next item in the sequence\n",
        "- Sytax and example :"
      ],
      "metadata": {
        "id": "hGF3rWwl4Gf8"
      }
    },
    {
      "cell_type": "code",
      "source": [
        "# for loop example\n",
        "string = \"Pwskills\"\n",
        "for i in string :\n",
        "  print(i)"
      ],
      "metadata": {
        "colab": {
          "base_uri": "https://localhost:8080/"
        },
        "id": "618mjl8F5MEA",
        "outputId": "d0c9016e-f9f3-4e96-e265-7e5cdae04459"
      },
      "execution_count": null,
      "outputs": [
        {
          "output_type": "stream",
          "name": "stdout",
          "text": [
            "P\n",
            "w\n",
            "s\n",
            "k\n",
            "i\n",
            "l\n",
            "l\n",
            "s\n"
          ]
        }
      ]
    },
    {
      "cell_type": "markdown",
      "source": [
        "**1. ```while``` loop**\n",
        "- It made for repeatedly executing a given block of code as long as the specified condition is ```True```\n",
        "- The numbers iterations depends on code and it's condition\n",
        "- It cannot handle the loop to automatically move to the next item in the sequence, if want to exit or terminate the loop we have to specifiy the condition\n",
        "- Syntax and example :"
      ],
      "metadata": {
        "id": "5RNiQ07s5IzS"
      }
    },
    {
      "cell_type": "code",
      "source": [
        "# while loop example\n",
        "num = int(input(\"Enter a number : \"))\n",
        "while num < 2 :\n",
        "  print(num)\n",
        "  num += 1"
      ],
      "metadata": {
        "colab": {
          "base_uri": "https://localhost:8080/"
        },
        "id": "APff2fUm35NJ",
        "outputId": "9f3a2ced-9001-4e8e-f662-1a2143d25586"
      },
      "execution_count": null,
      "outputs": [
        {
          "output_type": "stream",
          "name": "stdout",
          "text": [
            "Enter a number : 0\n",
            "0\n",
            "1\n"
          ]
        }
      ]
    },
    {
      "cell_type": "markdown",
      "source": [
        "#### **14. Describe a scenario where a ```while``` loop is more suitable than a ```for``` loop.**"
      ],
      "metadata": {
        "id": "1ENsuP2M7m4T"
      }
    },
    {
      "cell_type": "markdown",
      "source": [
        "- In embedded systems, for example we are using raspberry pi as microcontroller and programming it through python, there is a block of code which do not need to repeat, for example like setting GPIO pins as input and output and there is another block of which is needs to be repeated like blinking the led (making it on and off) or taking values form a sensor and displaying it every second, for this block of code to run repeatedtly we use ```while``` loop which do not need to be terminated or where the number of iterations is not known in advance and depends on a condition."
      ],
      "metadata": {
        "id": "theCU-k771Mz"
      }
    },
    {
      "cell_type": "markdown",
      "source": [
        "## PRACTICAL QUESTIONS"
      ],
      "metadata": {
        "id": "pbmtjz3V_MmR"
      }
    },
    {
      "cell_type": "markdown",
      "source": [
        "#### **1.  Write a Python program to print \"Hello, World!\"**"
      ],
      "metadata": {
        "id": "1ZSzTMbI_c86"
      }
    },
    {
      "cell_type": "code",
      "source": [
        "print(\"Hello, World!\")"
      ],
      "metadata": {
        "colab": {
          "base_uri": "https://localhost:8080/"
        },
        "id": "HIomdopH_Tr1",
        "outputId": "d809e427-8971-42ec-ef28-dc81c086dab7"
      },
      "execution_count": null,
      "outputs": [
        {
          "output_type": "stream",
          "name": "stdout",
          "text": [
            "Hello, World!\n"
          ]
        }
      ]
    },
    {
      "cell_type": "markdown",
      "source": [
        "#### **2. Write a Python program that displays your name and age**"
      ],
      "metadata": {
        "id": "7NdQXIQy_u9K"
      }
    },
    {
      "cell_type": "code",
      "source": [
        "Name = \"Ch Hareesh\"\n",
        "age = 21\n",
        "print(f\"My name is {Name} and my age is {age}\")"
      ],
      "metadata": {
        "colab": {
          "base_uri": "https://localhost:8080/"
        },
        "id": "rl3c2Rnr_pkI",
        "outputId": "7d24b97a-210e-4914-e81d-36ec24c068c7"
      },
      "execution_count": null,
      "outputs": [
        {
          "output_type": "stream",
          "name": "stdout",
          "text": [
            "My name is Ch Hareesh and my age is 21\n"
          ]
        }
      ]
    },
    {
      "cell_type": "markdown",
      "source": [
        "#### **3. Write code to print all the pre-defined keywords in Python using the keyword library**"
      ],
      "metadata": {
        "id": "h2biuuE8AXC3"
      }
    },
    {
      "cell_type": "code",
      "source": [
        "import keyword\n",
        "print(keyword.kwlist)"
      ],
      "metadata": {
        "colab": {
          "base_uri": "https://localhost:8080/"
        },
        "id": "U4dNWdWUAEmy",
        "outputId": "76f4887f-5049-432d-c5ef-76eb85a238dd"
      },
      "execution_count": null,
      "outputs": [
        {
          "output_type": "stream",
          "name": "stdout",
          "text": [
            "['False', 'None', 'True', 'and', 'as', 'assert', 'async', 'await', 'break', 'class', 'continue', 'def', 'del', 'elif', 'else', 'except', 'finally', 'for', 'from', 'global', 'if', 'import', 'in', 'is', 'lambda', 'nonlocal', 'not', 'or', 'pass', 'raise', 'return', 'try', 'while', 'with', 'yield']\n"
          ]
        }
      ]
    },
    {
      "cell_type": "markdown",
      "source": [
        " #### **4. Write a program that checks if a given word is a Python keyword.**"
      ],
      "metadata": {
        "id": "CJ5BjiCzAqXs"
      }
    },
    {
      "cell_type": "code",
      "source": [
        "# Method 1\n",
        "import keyword\n",
        "word = input(\"Enter a word : \")\n",
        "if keyword.iskeyword(word) :\n",
        "  print(f\"'{word}' is a python keyword\")\n",
        "else :\n",
        "  print(f\"'{word}' is not a python keyword\")"
      ],
      "metadata": {
        "colab": {
          "base_uri": "https://localhost:8080/"
        },
        "id": "fHyUhkcKAj6p",
        "outputId": "cdb7295b-6679-44e4-edc9-3b70a30e8196"
      },
      "execution_count": null,
      "outputs": [
        {
          "output_type": "stream",
          "name": "stdout",
          "text": [
            "Enter a word : not\n",
            "'not' is a python keyword\n"
          ]
        }
      ]
    },
    {
      "cell_type": "code",
      "source": [
        "# Mehtod 2\n",
        "import keyword\n",
        "word = input(\"Enter a word : \")\n",
        "if word in keyword.kwlist :\n",
        "  print(f\"'{word}' is a python keyword\")\n",
        "else :\n",
        "  print(f\"'{word}' is not a python keyword\")"
      ],
      "metadata": {
        "colab": {
          "base_uri": "https://localhost:8080/"
        },
        "id": "QUFXq73zBElB",
        "outputId": "4185b03d-7acf-4f4e-ab21-f58d2b47bd5d"
      },
      "execution_count": null,
      "outputs": [
        {
          "output_type": "stream",
          "name": "stdout",
          "text": [
            "Enter a word : elif\n",
            "'elif' is a python keyword\n"
          ]
        }
      ]
    },
    {
      "cell_type": "markdown",
      "source": [
        "#### **5. Create a list and tuple in Python, and demonstrate how attempting to change an element works differently for each.**"
      ],
      "metadata": {
        "id": "w-wjNeFQC6Se"
      }
    },
    {
      "cell_type": "code",
      "source": [
        "list1 = [4, 2.7, \"Pwskills\", True]\n",
        "tuple1 = (4, 2.7, \"Pwskills\", True)\n",
        "\n",
        "list1[1] = 5.6 # changing the 2nd element of list\n",
        "print(list1)\n",
        "\n",
        "# tuple1[2] = \"Data science\" # changing the 2nd element of tuple\n",
        "# print(tuple1)"
      ],
      "metadata": {
        "colab": {
          "base_uri": "https://localhost:8080/"
        },
        "id": "kcPuNLLLDESO",
        "outputId": "6e8f5ef8-ea54-4cfb-8a37-25dc6f7c81aa"
      },
      "execution_count": null,
      "outputs": [
        {
          "output_type": "stream",
          "name": "stdout",
          "text": [
            "[4, 5.6, 'Pwskills', True]\n"
          ]
        }
      ]
    },
    {
      "cell_type": "markdown",
      "source": [
        "- As tuple is immutable, interpreter will show error mentioning `'tuple' object does not support item assignment`"
      ],
      "metadata": {
        "id": "bnsN_iG-ER5L"
      }
    },
    {
      "cell_type": "markdown",
      "source": [
        "#### **6. Write a function to demonstrate the behavior of mutable and immutable arguments.**"
      ],
      "metadata": {
        "id": "NCRRKaSdEzDJ"
      }
    },
    {
      "cell_type": "code",
      "source": [
        "def demonstrate_mutability_in_function(mutable_list, immutable_tuple):\n",
        "  \"\"\"\n",
        "  Demonstrates the behavior of mutable list and immutable tuple arguments in a function.\n",
        "\n",
        "  Args:\n",
        "    mutable_list: A mutable list.\n",
        "    immutable_tuple: An immutable tuple.\n",
        "  \"\"\"\n",
        "  print(\"\\nInside the function:\")\n",
        "  print(\"Initial mutable list:\", mutable_list)\n",
        "  print(\"Initial immutable tuple:\", immutable_tuple)\n",
        "\n",
        "  # Modify an element in the mutable list\n",
        "  mutable_list[0] = 99\n",
        "  print(\"\\nMutable list after modification:\", mutable_list)\n",
        "\n",
        "  # Attempt to modify an element in the immutable tuple\n",
        "  try:\n",
        "    immutable_tuple[0] = 99\n",
        "  except TypeError as e:\n",
        "    print(\"Attempting to modify an element in the immutable tuple resulted in an error:\")\n",
        "    print(e)\n",
        "\n",
        "  print(\"Immutable tuple remains unchanged inside function:\", immutable_tuple)\n",
        "\n",
        "\n",
        "# Demonstrate with a mutable list and an immutable tuple\n",
        "my_list = [1, 2, 3, 4]\n",
        "my_tuple = (5, 6, 7, 8)\n",
        "\n",
        "print(\"Outside the function before call:\")\n",
        "print(\"My list:\", my_list)\n",
        "print(\"My tuple:\", my_tuple)\n",
        "\n",
        "demonstrate_mutability_in_function(my_list, my_tuple)\n",
        "\n",
        "print(\"\\nOutside the function after call:\")\n",
        "print(\"My list:\", my_list)\n",
        "print(\"My tuple:\", my_tuple)"
      ],
      "metadata": {
        "id": "6p1n2xKlGC_Y",
        "colab": {
          "base_uri": "https://localhost:8080/"
        },
        "outputId": "8e39e33c-6c8a-45f3-f1e9-bc4971e77510"
      },
      "execution_count": 7,
      "outputs": [
        {
          "output_type": "stream",
          "name": "stdout",
          "text": [
            "Outside the function before call:\n",
            "My list: [1, 2, 3, 4]\n",
            "My tuple: (5, 6, 7, 8)\n",
            "\n",
            "Inside the function:\n",
            "Initial mutable list: [1, 2, 3, 4]\n",
            "Initial immutable tuple: (5, 6, 7, 8)\n",
            "\n",
            "Mutable list after modification: [99, 2, 3, 4]\n",
            "Attempting to modify an element in the immutable tuple resulted in an error:\n",
            "'tuple' object does not support item assignment\n",
            "Immutable tuple remains unchanged inside function: (5, 6, 7, 8)\n",
            "\n",
            "Outside the function after call:\n",
            "My list: [99, 2, 3, 4]\n",
            "My tuple: (5, 6, 7, 8)\n"
          ]
        }
      ]
    },
    {
      "cell_type": "markdown",
      "source": [
        "#### **7. Write a program that performs basic arithmetic operations on two user-input numbers**"
      ],
      "metadata": {
        "id": "NRoCvRujD8-H"
      }
    },
    {
      "cell_type": "code",
      "source": [
        "num1 = int(input(\"Enter first number  : \"))\n",
        "num2 = int(input(\"Enter second number : \"))\n",
        "\n",
        "print(\"\\nRefernece for enetering\")\n",
        "print(\"'1' for Addition\")\n",
        "print(\"'2' Subtraction\")\n",
        "print(\"'3' Multiplication\")\n",
        "print(\"'4' for Division\")\n",
        "print(\"'5' for Modulus\")\n",
        "print(\"'6' for Floor division\")\n",
        "print(\"'7' for Exponentiation\\n\")\n",
        "operator = input(\"Enter operator : \")\n",
        "\n",
        "if operator == '1' :\n",
        "  print(f\"\\nAddition : \\n{num1} + {num2} = {num1 + num2}\")\n",
        "elif operator == '2' :\n",
        "  print(f\"\\nSubtraction : \\n{num1} - {num2} = {num1 - num2}\")\n",
        "elif operator == '3' :\n",
        "  print(f\"\\nMultiplication : \\n{num1} * {num2} = {num1 * num2}\")\n",
        "elif operator == '4' :\n",
        "  print(f\"\\nDivision : \\n{num1} / {num2} = {num1 / num2}\")\n",
        "elif operator == '5' :\n",
        "  print(f\"\\nModulus : \\n{num1} % {num2} = {num1 % num2}\")\n",
        "elif operator == '6' :\n",
        "  print(f\"\\nFloor division : \\n{num1} // {num2} = {num1 // num2}\")\n",
        "elif operator == '7' :\n",
        "  print(f\"\\nExponentiation : \\n{num1} ** {num2} = {num1 ** num2}\")\n",
        "else :\n",
        "  print(\"\\nInvalid operator\")"
      ],
      "metadata": {
        "colab": {
          "base_uri": "https://localhost:8080/"
        },
        "id": "e1cqouEeEROB",
        "outputId": "0c579401-bb56-493e-8853-952c63b9f582"
      },
      "execution_count": null,
      "outputs": [
        {
          "output_type": "stream",
          "name": "stdout",
          "text": [
            "Enter first number  : 5\n",
            "Enter second number : 2\n",
            "\n",
            "Refernece for enetering\n",
            "'1' for Addition\n",
            "'2' Subtraction\n",
            "'3' Multiplication\n",
            "'4' for Division\n",
            "'5' for Modulus\n",
            "'6' for Floor division\n",
            "'7' for Exponentiation\n",
            "\n",
            "Enter operator : 3\n",
            "\n",
            "Multiplication : \n",
            "5 * 2 = 10\n"
          ]
        }
      ]
    },
    {
      "cell_type": "markdown",
      "source": [
        "#### **8. Write a program to demonstrate the use of logical operators.**"
      ],
      "metadata": {
        "id": "e6VKo2xyI0en"
      }
    },
    {
      "cell_type": "code",
      "source": [
        "# Data base example for 'and' operator\n",
        "ID_num = int(input(\"Enter your ID number : \"))\n",
        "password = input(\"Enter your password : \")\n",
        "\n",
        "if ID_num == 12345 and password == \"Hello\" :\n",
        "  print(\"\\nLogin successful\")\n",
        "elif ID_num != 12345 and password == \"Hello\" :\n",
        "  print(\"\\nInvalid ID number\")\n",
        "elif ID_num == 12345 and password != \"Hello\" :\n",
        "  print(\"\\nInvalid password\")\n",
        "else :\n",
        "  print(\"\\nLogin failed\")"
      ],
      "metadata": {
        "colab": {
          "base_uri": "https://localhost:8080/"
        },
        "id": "zgV2ao1QI-9B",
        "outputId": "c1986016-fe60-429d-ae96-5b0650af985b"
      },
      "execution_count": null,
      "outputs": [
        {
          "output_type": "stream",
          "name": "stdout",
          "text": [
            "Enter your ID number : 12345\n",
            "Enter your password : hello\n",
            "\n",
            "Invalid password\n"
          ]
        }
      ]
    },
    {
      "cell_type": "code",
      "source": [
        "# Multiple choice question example for 'or' opertor\n",
        "print(\"Q) Python is a \")\n",
        "print(\"   1. Programming language\")\n",
        "print(\"   2. Interpreter\")\n",
        "print(\"   3. low level language\")\n",
        "print(\"   4. High level language\\n\")\n",
        "option = input(\"select your option (only one) : \")\n",
        "\n",
        "if option == '1' or option == '2' or option == '4' :\n",
        "  print(\"\\nCorrect answer\")\n",
        "else :\n",
        "  print(\"\\nWrong answer\")"
      ],
      "metadata": {
        "colab": {
          "base_uri": "https://localhost:8080/"
        },
        "id": "j327iYRYKYLc",
        "outputId": "55a6ca0d-81ee-444a-d993-822df36b16d7"
      },
      "execution_count": null,
      "outputs": [
        {
          "output_type": "stream",
          "name": "stdout",
          "text": [
            "Q) Python is a \n",
            "   1. Programming language\n",
            "   2. Interpreter\n",
            "   3. low level language\n",
            "   4. High level language\n",
            "\n",
            "select your option (only one) : 3\n",
            "\n",
            "Wrong answer\n"
          ]
        }
      ]
    },
    {
      "cell_type": "markdown",
      "source": [
        "#### **9.  Write a Python program to convert user input from string to integer, float, and boolean types.**"
      ],
      "metadata": {
        "id": "29E7cswqMPC3"
      }
    },
    {
      "cell_type": "code",
      "source": [
        "user_input = input(\"Enter a value : \")\n",
        "print(f\"Type of user_input {user_input} is : {type(user_input)}\")\n",
        "\n",
        "Float_UI = float(user_input)\n",
        "print(f\"Type of user_input {Float_UI} is : {type(Float_UI)}\")\n",
        "\n",
        "Num_UI = int(Float_UI)\n",
        "print(f\"Type of user_input {Num_UI} is : {type(Num_UI)}\")\n",
        "\n",
        "bool_UI = bool(user_input)\n",
        "print(f\"Type of user_input {bool_UI} is : {type(bool_UI)}\")"
      ],
      "metadata": {
        "colab": {
          "base_uri": "https://localhost:8080/"
        },
        "id": "NUYU1sZbMZGZ",
        "outputId": "62ad41df-f4ff-412d-fdf8-f6846e6d525a"
      },
      "execution_count": null,
      "outputs": [
        {
          "output_type": "stream",
          "name": "stdout",
          "text": [
            "Enter a value : 6.3\n",
            "Type of user_input 6.3 is : <class 'str'>\n",
            "Type of user_input 6.3 is : <class 'float'>\n",
            "Type of user_input 6 is : <class 'int'>\n",
            "Type of user_input True is : <class 'bool'>\n"
          ]
        }
      ]
    },
    {
      "cell_type": "markdown",
      "source": [
        " #### **10. Write code to demonstrate type casting with list elements.**"
      ],
      "metadata": {
        "id": "f1e3b3AENgD7"
      }
    },
    {
      "cell_type": "code",
      "source": [
        "# Implicit type casting\n",
        "mylist = [4, 3.6, 5 + 6j, \"mylist\", False, None]\n",
        "print(f\"Type of mylist {mylist} is : {type(mylist)}\")\n",
        "\n",
        "print(\"\\nType of mylist element :\")\n",
        "for i in mylist:\n",
        "  print(f\"{i} is : {type(i)}\")"
      ],
      "metadata": {
        "colab": {
          "base_uri": "https://localhost:8080/"
        },
        "id": "KihjGBvwNo7s",
        "outputId": "1bce7de0-5a7f-4aa0-c197-f737bf644724"
      },
      "execution_count": null,
      "outputs": [
        {
          "output_type": "stream",
          "name": "stdout",
          "text": [
            "Type of mylist [4, 3.6, (5+6j), 'mylist', False, None] is : <class 'list'>\n",
            "\n",
            "Type of mylist element :\n",
            "4 is : <class 'int'>\n",
            "3.6 is : <class 'float'>\n",
            "(5+6j) is : <class 'complex'>\n",
            "mylist is : <class 'str'>\n",
            "False is : <class 'bool'>\n",
            "None is : <class 'NoneType'>\n"
          ]
        }
      ]
    },
    {
      "cell_type": "markdown",
      "source": [
        "#### **11. Write a program that checks if a number is positive, negative, or zero**"
      ],
      "metadata": {
        "id": "MafnbCXbOp0S"
      }
    },
    {
      "cell_type": "code",
      "source": [
        "value = int(input(\"Enter a number : \"))\n",
        "if value > 0 :\n",
        "  print(f\"{value} is a positive number\")\n",
        "elif value < 0 :\n",
        "  print(f\"{value} is a negative number\")\n",
        "else :\n",
        "  print(f\"{value} is zero\")"
      ],
      "metadata": {
        "colab": {
          "base_uri": "https://localhost:8080/"
        },
        "id": "mWjOKByXO3C2",
        "outputId": "9dd89093-e245-4bc3-8499-e0e43ebdb835"
      },
      "execution_count": null,
      "outputs": [
        {
          "output_type": "stream",
          "name": "stdout",
          "text": [
            "Enter a number : -4\n",
            "-4 is a negative number\n"
          ]
        }
      ]
    },
    {
      "cell_type": "markdown",
      "source": [
        "#### **12. Write a `for` loop to print numbers from 1 to 10.**"
      ],
      "metadata": {
        "id": "-v78CRuvPJIE"
      }
    },
    {
      "cell_type": "code",
      "source": [
        "for i in range(1, 11) :\n",
        "  print(i, end = \" \")"
      ],
      "metadata": {
        "colab": {
          "base_uri": "https://localhost:8080/"
        },
        "id": "dUuEdtMoPAJj",
        "outputId": "e00427fd-8f77-4800-d7ce-bca334b667d7"
      },
      "execution_count": null,
      "outputs": [
        {
          "output_type": "stream",
          "name": "stdout",
          "text": [
            "1 2 3 4 5 6 7 8 9 10 "
          ]
        }
      ]
    },
    {
      "cell_type": "markdown",
      "source": [
        "#### **13. Write a Python program to find the sum of all even numbers between 1 and 50.**"
      ],
      "metadata": {
        "id": "b0MiWJ0qPbLK"
      }
    },
    {
      "cell_type": "code",
      "source": [
        "sum = 0\n",
        "for i in range(1,51) :\n",
        "  if i % 2 == 0 : # to check if it's even\n",
        "    sum = sum + i\n",
        "print(sum)"
      ],
      "metadata": {
        "colab": {
          "base_uri": "https://localhost:8080/"
        },
        "id": "DfvBqzlHPY2Y",
        "outputId": "950e4076-99fd-4725-8802-76c7eb511116"
      },
      "execution_count": null,
      "outputs": [
        {
          "output_type": "stream",
          "name": "stdout",
          "text": [
            "650\n"
          ]
        }
      ]
    },
    {
      "cell_type": "markdown",
      "source": [
        "#### **14. Write a program to reverse a string using a `while` loop**"
      ],
      "metadata": {
        "id": "yReWPx2SQVMW"
      }
    },
    {
      "cell_type": "code",
      "source": [
        "s = \"Hello, World !!\"\n",
        "i = len(s) - 1\n",
        "while i >= 0 :\n",
        "  print(s[i], end = \"\")\n",
        "  i -= 1"
      ],
      "metadata": {
        "colab": {
          "base_uri": "https://localhost:8080/"
        },
        "id": "el_Av0x3Qh0z",
        "outputId": "0b0570f8-4dbb-40b6-bdc9-867ba67d6e0b"
      },
      "execution_count": null,
      "outputs": [
        {
          "output_type": "stream",
          "name": "stdout",
          "text": [
            "!! dlroW ,olleH"
          ]
        }
      ]
    },
    {
      "cell_type": "markdown",
      "source": [
        "#### **15. Write a Python program to calculate the factorial of a number provided by the user using a `while` loop.**"
      ],
      "metadata": {
        "id": "vGCyAXSaReCD"
      }
    },
    {
      "cell_type": "code",
      "source": [
        "inputnum = int(input(\"Enter a number : \"))\n",
        "i = 1\n",
        "fact = 1\n",
        "while i <= inputnum :\n",
        "  fact = fact * i\n",
        "  i += 1\n",
        "print(f\"Factorial of {inputnum} is {fact}\")\n",
        "\n",
        "if inputnum == 0 :\n",
        "  print(f\"Factorial of {inputnum} is 1\")"
      ],
      "metadata": {
        "colab": {
          "base_uri": "https://localhost:8080/"
        },
        "id": "LOA_nC0GR0yh",
        "outputId": "c07613e8-83db-4029-867d-64cecd15ef6c"
      },
      "execution_count": null,
      "outputs": [
        {
          "output_type": "stream",
          "name": "stdout",
          "text": [
            "Enter a number : 5\n",
            "Factorial of 5 is 120\n"
          ]
        }
      ]
    }
  ]
}